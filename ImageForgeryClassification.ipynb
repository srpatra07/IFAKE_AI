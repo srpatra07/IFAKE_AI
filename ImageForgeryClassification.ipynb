{
  "cells": [
    {
      "cell_type": "code",
      "execution_count": null,
      "metadata": {
        "_cell_guid": "b1076dfc-b9ad-4769-8c92-a6c4dae69d19",
        "_uuid": "8f2839f25d086af736a60e9eeb907d3b93b6e0e5",
        "id": "s4gzhVCrmyOc"
      },
      "outputs": [],
      "source": [
        "import tensorflow as tf\n",
        "gpu_devices = tf.config.experimental.list_physical_devices('GPU')\n",
        "for device in gpu_devices: tf.config.experimental.set_memory_growth(device, True)\n"
      ]
    },
    {
      "cell_type": "code",
      "execution_count": null,
      "metadata": {
        "id": "c42Qp8svmyOk"
      },
      "outputs": [],
      "source": [
        "import numpy as np\n",
        "import os\n",
        "import itertools\n",
        "import matplotlib.pyplot as plt\n",
        "import json\n",
        "import seaborn as sns\n",
        "\n",
        "%matplotlib inline\n",
        "from sklearn.model_selection import train_test_split\n",
        "from sklearn.metrics import confusion_matrix, classification_report\n",
        "from keras.models import Sequential, load_model\n",
        "from keras.layers import Dense, Flatten, Conv2D, MaxPool2D, Dropout, Activation, GlobalAveragePooling2D\n",
        "from tensorflow.keras.optimizers import Adam\n",
        "from keras.callbacks import EarlyStopping\n",
        "from PIL import Image, ImageChops, ImageEnhance\n",
        "from tqdm.notebook import tqdm\n",
        "from tensorflow import keras\n",
        "from keras.preprocessing.image import ImageDataGenerator\n"
      ]
    },
    {
      "cell_type": "code",
      "execution_count": null,
      "metadata": {
        "_cell_guid": "79c7e3d0-c299-4dcb-8224-4455121ee9b0",
        "_uuid": "d629ff2d2480ee46fbb7e2d37f6b5fab8052498a",
        "id": "TZ_vNQ6qmyOn"
      },
      "outputs": [],
      "source": [
        "def convert_to_ela_image(path,quality):\n",
        "\n",
        "    original_image = Image.open(path).convert('RGB')\n",
        "\n",
        "    resaved_file_name = 'resaved_image.jpg'    \n",
        "    original_image.save(resaved_file_name,'JPEG',quality=quality)\n",
        "    resaved_image = Image.open(resaved_file_name)\n",
        "\n",
        "    ela_image = ImageChops.difference(original_image,resaved_image)\n",
        "    \n",
        "    extrema = ela_image.getextrema()\n",
        "    max_difference = max([pix[1] for pix in extrema])\n",
        "    if max_difference ==0:\n",
        "        max_difference = 1\n",
        "    scale = 255 / max_difference\n",
        "    \n",
        "    ela_image = ImageEnhance.Brightness(ela_image).enhance(scale)\n",
        "\n",
        "    return ela_image"
      ]
    },
    {
      "cell_type": "code",
      "execution_count": null,
      "metadata": {
        "id": "Xwq3AWGUmyOp"
      },
      "outputs": [],
      "source": [
        "def prepare_image(image_path):\n",
        "    image_size = (128, 128)\n",
        "    return np.array(convert_to_ela_image(image_path, 90).resize(image_size)).flatten() / 255.0        "
      ]
    },
    {
      "cell_type": "code",
      "execution_count": null,
      "metadata": {
        "id": "_PXFRoqrmyOq"
      },
      "outputs": [],
      "source": [
        "X = []\n",
        "Y = []"
      ]
    },
    {
      "cell_type": "code",
      "execution_count": null,
      "metadata": {
        "id": "9RhuMyVjmyOr",
        "outputId": "52dcece4-147a-431c-cabd-7ac841dd660e",
        "colab": {
          "referenced_widgets": [
            "ae8c039ece4d4b7092edf043daad1423"
          ]
        }
      },
      "outputs": [
        {
          "data": {
            "application/vnd.jupyter.widget-view+json": {
              "model_id": "ae8c039ece4d4b7092edf043daad1423",
              "version_major": 2,
              "version_minor": 0
            },
            "text/plain": [
              "Processing Images :   0%|          | 0/250 [00:00<?, ?it/s]"
            ]
          },
          "metadata": {},
          "output_type": "display_data"
        },
        {
          "name": "stdout",
          "output_type": "stream",
          "text": [
            "Total images: 244\n",
            "Total labels: 244\n"
          ]
        }
      ],
      "source": [
        "\n",
        "path = '../Datasets/CASIA_FIDAC/Au/'      \n",
        "for filename in tqdm(os.listdir(path),desc=\"Processing Images : \"):\n",
        "    if filename.endswith('jpg') or filename.endswith('png') or filename.endswith('jpeg'):\n",
        "        try:\n",
        "            full_path = os.path.join(path, filename)\n",
        "            X.append(prepare_image(full_path))        \n",
        "            Y.append(1)     \n",
        "        except:\n",
        "            pass\n",
        "\n",
        "print(f'Total images: {len(X)}\\nTotal labels: {len(Y)}')"
      ]
    },
    {
      "cell_type": "code",
      "execution_count": null,
      "metadata": {
        "id": "X9IXi2MbmyOv",
        "outputId": "9a7dbeee-a966-4350-9b5e-956994641b7e",
        "colab": {
          "referenced_widgets": [
            "315fdae9fdd5436dbc0d9f59bfe44fa2"
          ]
        }
      },
      "outputs": [
        {
          "data": {
            "application/vnd.jupyter.widget-view+json": {
              "model_id": "315fdae9fdd5436dbc0d9f59bfe44fa2",
              "version_major": 2,
              "version_minor": 0
            },
            "text/plain": [
              "Processing Images :   0%|          | 0/250 [00:00<?, ?it/s]"
            ]
          },
          "metadata": {},
          "output_type": "display_data"
        },
        {
          "name": "stdout",
          "output_type": "stream",
          "text": [
            "Total images: 494\n",
            "Total labels: 494\n"
          ]
        }
      ],
      "source": [
        "\n",
        "path = '../Datasets/CASIA_FIDAC/Tp/'      \n",
        "i=0\n",
        "for filename in tqdm(os.listdir(path),desc=\"Processing Images : \"):\n",
        "        if filename.endswith('jpg') or filename.endswith('png') or filename.endswith('jpeg'):\n",
        "            i+=1\n",
        "            try:\n",
        "                full_path = os.path.join(path, filename)\n",
        "                X.append(prepare_image(full_path))        \n",
        "                Y.append(0)    \n",
        "            except:\n",
        "                pass\n",
        "\n",
        "   \n",
        "print(f'Total images: {len(X)}\\nTotal labels: {len(Y)}')"
      ]
    },
    {
      "cell_type": "code",
      "execution_count": null,
      "metadata": {
        "id": "M-fMRTjcmyOy"
      },
      "outputs": [],
      "source": [
        "from sklearn.utils import shuffle\n",
        "\n"
      ]
    },
    {
      "cell_type": "code",
      "execution_count": null,
      "metadata": {
        "id": "1LSshaZ-myOz"
      },
      "outputs": [],
      "source": [
        "X = np.array(X)\n",
        "Y = np.array(Y)\n",
        "X,Y= shuffle(X,Y)\n",
        "\n",
        "X = X.reshape(-1, 128, 128, 3)\n",
        "\n",
        "\n",
        "\n",
        "np.save('proposed_fidac_500_x.npy', X, allow_pickle=True)\n",
        "np.save('proposed_fidac_500_y.npy', Y, allow_pickle=True)\n"
      ]
    },
    {
      "cell_type": "code",
      "execution_count": null,
      "metadata": {
        "id": "KG7QWFHUmyO1",
        "outputId": "4e1a5789-97a0-4de1-f0fe-342222c85ac6"
      },
      "outputs": [
        {
          "name": "stdout",
          "output_type": "stream",
          "text": [
            "(494, 128, 128, 3) (494,)\n"
          ]
        }
      ],
      "source": [
        "X = np.load('../Numpy arrays/proposed_casia_fidac_500_x.npy', allow_pickle=True)\n",
        "Y = np.load('../Numpy arrays/proposed_casia_fidac_500_y.npy', allow_pickle=True)\n",
        "\n",
        "print(np.shape(X),np.shape(Y))"
      ]
    },
    {
      "cell_type": "code",
      "execution_count": null,
      "metadata": {
        "id": "bHWXf3IEmyO2",
        "outputId": "fe0095ca-948e-4eda-e912-b6ce887c746e"
      },
      "outputs": [
        {
          "name": "stdout",
          "output_type": "stream",
          "text": [
            "Training images: 375 , Training labels: 375\n",
            "Validation images: 94 , Validation labels: 94\n",
            "Test images: 25 , Test labels: 25\n"
          ]
        }
      ],
      "source": [
        "X_temp, X_test, Y_temp, Y_test = train_test_split(X, Y, test_size = 0.05, random_state=5)\n",
        "X_train, X_val, Y_train, Y_val = train_test_split(X_temp, Y_temp, test_size = 0.2, random_state=5)\n",
        "X = X.reshape(-1,1,1,1)\n",
        "\n",
        "print(f'Training images: {len(X_train)} , Training labels: {len(Y_train)}')\n",
        "print(f'Validation images: {len(X_val)} , Validation labels: {len(Y_val)}')\n",
        "print(f'Test images: {len(X_test)} , Test labels: {len(Y_test)}')"
      ]
    },
    {
      "cell_type": "code",
      "execution_count": null,
      "metadata": {
        "id": "p5e9o9HQmyO3",
        "outputId": "61b0f6c4-ad21-48ac-db4a-9676f6deface"
      },
      "outputs": [
        {
          "name": "stdout",
          "output_type": "stream",
          "text": [
            "[1 0 1 0 0 0 1 0 0 1 0 1 0 0 1 1 0 0 0 0 1 1 0 1 1]\n"
          ]
        }
      ],
      "source": [
        "print(Y_test)"
      ]
    },
    {
      "cell_type": "code",
      "execution_count": null,
      "metadata": {
        "id": "npihJQpTmyO4"
      },
      "outputs": [],
      "source": [
        "train_gen = ImageDataGenerator(\n",
        "    featurewise_center=False,\n",
        "    samplewise_center=False,\n",
        "    featurewise_std_normalization=False,\n",
        "    samplewise_std_normalization=False,\n",
        "    #zca_whitening=False,\n",
        "    rotation_range=30,\n",
        "    width_shift_range=0.1,\n",
        "    height_shift_range=0.1,\n",
        "    zoom_range=0.2,\n",
        "    horizontal_flip=True,\n",
        "    vertical_flip=False,\n",
        ")\n",
        "test_gen =  ImageDataGenerator()\n",
        "\n",
        "train_gen.fit(X_train)\n",
        "test_gen.fit(X_val)\n",
        "\n",
        "augmented_data = []\n"
      ]
    },
    {
      "cell_type": "code",
      "execution_count": null,
      "metadata": {
        "id": "ObGHRW7DmyO5"
      },
      "outputs": [],
      "source": [
        "def build_model():\n",
        "    model = Sequential()\n",
        "    model.add(Conv2D(32, (5,5), activation = 'relu', input_shape = (128, 128, 3)))\n",
        "    model.add(MaxPool2D(2, 2))\n",
        "    model.add(Conv2D(64, (3,3), activation = 'relu'))\n",
        "    model.add(MaxPool2D(2, 2))\n",
        "    model.add(Conv2D(128, (3,3), activation = 'relu'))\n",
        "    model.add(Conv2D(128, (3,3), activation = 'relu'))\n",
        "    model.add(MaxPool2D(2, 2))\n",
        "    model.add(Conv2D(256, (3,3), activation = 'relu'))\n",
        "    model.add(Conv2D(256, (3,3), activation = 'relu', padding = \"SAME\"))\n",
        "    model.add(Flatten())\n",
        "    model.add(Dense(64, activation = 'relu'))\n",
        "    model.add(Dropout(0.4))\n",
        "    model.add(Dense(128, activation = 'relu'))\n",
        "    model.add(Dropout(0.4))\n",
        "    model.add(Dense(1, activation = 'sigmoid'))\n",
        "    return model"
      ]
    },
    {
      "cell_type": "code",
      "execution_count": null,
      "metadata": {
        "id": "eWuKkUVNmyO6",
        "outputId": "dc63e86b-16f8-432a-f818-cee9ba218773"
      },
      "outputs": [
        {
          "name": "stdout",
          "output_type": "stream",
          "text": [
            "Model: \"sequential_16\"\n",
            "_________________________________________________________________\n",
            "Layer (type)                 Output Shape              Param #   \n",
            "=================================================================\n",
            "conv2d_47 (Conv2D)           (None, 124, 124, 32)      2432      \n",
            "_________________________________________________________________\n",
            "max_pooling2d_24 (MaxPooling (None, 62, 62, 32)        0         \n",
            "_________________________________________________________________\n",
            "conv2d_48 (Conv2D)           (None, 60, 60, 64)        18496     \n",
            "_________________________________________________________________\n",
            "max_pooling2d_25 (MaxPooling (None, 30, 30, 64)        0         \n",
            "_________________________________________________________________\n",
            "conv2d_49 (Conv2D)           (None, 28, 28, 128)       73856     \n",
            "_________________________________________________________________\n",
            "conv2d_50 (Conv2D)           (None, 26, 26, 128)       147584    \n",
            "_________________________________________________________________\n",
            "max_pooling2d_26 (MaxPooling (None, 13, 13, 128)       0         \n",
            "_________________________________________________________________\n",
            "conv2d_51 (Conv2D)           (None, 11, 11, 256)       295168    \n",
            "_________________________________________________________________\n",
            "conv2d_52 (Conv2D)           (None, 11, 11, 256)       590080    \n",
            "_________________________________________________________________\n",
            "flatten_14 (Flatten)         (None, 30976)             0         \n",
            "_________________________________________________________________\n",
            "dense_29 (Dense)             (None, 64)                1982528   \n",
            "_________________________________________________________________\n",
            "dropout_18 (Dropout)         (None, 64)                0         \n",
            "_________________________________________________________________\n",
            "dense_30 (Dense)             (None, 128)               8320      \n",
            "_________________________________________________________________\n",
            "dropout_19 (Dropout)         (None, 128)               0         \n",
            "_________________________________________________________________\n",
            "dense_31 (Dense)             (None, 1)                 129       \n",
            "=================================================================\n",
            "Total params: 3,118,593\n",
            "Trainable params: 3,118,593\n",
            "Non-trainable params: 0\n",
            "_________________________________________________________________\n"
          ]
        }
      ],
      "source": [
        "model = build_model()\n",
        "model.summary()"
      ]
    },
    {
      "cell_type": "code",
      "execution_count": null,
      "metadata": {
        "id": "qqpT5C0PmyO7"
      },
      "outputs": [],
      "source": [
        "epochs = 50\n",
        "batch_size = 19\n"
      ]
    },
    {
      "cell_type": "code",
      "execution_count": null,
      "metadata": {
        "id": "8qUtiFXumyO8"
      },
      "outputs": [],
      "source": [
        "init_lr = 1e-4  \n",
        "optimizer = Adam(learning_rate = init_lr, decay = init_lr/epochs) \n",
        "model.compile(optimizer = optimizer, loss = 'binary_crossentropy', metrics = ['accuracy'])"
      ]
    },
    {
      "cell_type": "code",
      "execution_count": null,
      "metadata": {
        "id": "BHapgJeZmyO9"
      },
      "outputs": [],
      "source": [
        "early_stopping = EarlyStopping(monitor = 'val_accuracy',\n",
        "                               min_delta = 0,\n",
        "                               patience = 10,\n",
        "                               verbose = 0,\n",
        "                               mode = 'auto')"
      ]
    },
    {
      "cell_type": "code",
      "execution_count": null,
      "metadata": {
        "scrolled": false,
        "id": "x1r0aG35myO9",
        "outputId": "54a5e761-6f78-4d55-aeda-b2e08be7f6ec"
      },
      "outputs": [
        {
          "name": "stdout",
          "output_type": "stream",
          "text": [
            "Epoch 1/50\n",
            "20/20 [==============================] - 56s 3s/step - loss: 0.4346 - accuracy: 0.8107 - val_loss: 0.3967 - val_accuracy: 0.8240\n",
            "Epoch 2/50\n",
            "20/20 [==============================] - 54s 3s/step - loss: 0.4041 - accuracy: 0.8267 - val_loss: 0.3696 - val_accuracy: 0.8373\n",
            "Epoch 3/50\n",
            "20/20 [==============================] - 48s 2s/step - loss: 0.4514 - accuracy: 0.8160 - val_loss: 0.3835 - val_accuracy: 0.8373\n",
            "Epoch 4/50\n",
            "20/20 [==============================] - 48s 2s/step - loss: 0.4019 - accuracy: 0.8213 - val_loss: 0.3655 - val_accuracy: 0.8480\n",
            "Epoch 5/50\n",
            "20/20 [==============================] - 46s 2s/step - loss: 0.4055 - accuracy: 0.8267 - val_loss: 0.3852 - val_accuracy: 0.8267\n",
            "Epoch 6/50\n",
            "20/20 [==============================] - 47s 2s/step - loss: 0.4401 - accuracy: 0.8053 - val_loss: 0.3800 - val_accuracy: 0.8400\n",
            "Epoch 7/50\n",
            "20/20 [==============================] - 48s 2s/step - loss: 0.3927 - accuracy: 0.8187 - val_loss: 0.3721 - val_accuracy: 0.8400\n",
            "Epoch 8/50\n",
            "20/20 [==============================] - 47s 2s/step - loss: 0.4057 - accuracy: 0.8400 - val_loss: 0.4260 - val_accuracy: 0.7973\n",
            "Epoch 9/50\n",
            "20/20 [==============================] - 49s 2s/step - loss: 0.4500 - accuracy: 0.8053 - val_loss: 0.4453 - val_accuracy: 0.7813\n",
            "Epoch 10/50\n",
            "20/20 [==============================] - 47s 2s/step - loss: 0.4105 - accuracy: 0.8213 - val_loss: 0.3668 - val_accuracy: 0.8453\n",
            "Epoch 11/50\n",
            "20/20 [==============================] - 47s 2s/step - loss: 0.3848 - accuracy: 0.8293 - val_loss: 0.3582 - val_accuracy: 0.8533\n",
            "Epoch 12/50\n",
            "20/20 [==============================] - 47s 2s/step - loss: 0.3846 - accuracy: 0.8453 - val_loss: 0.3498 - val_accuracy: 0.8427\n",
            "Epoch 13/50\n",
            "20/20 [==============================] - 48s 2s/step - loss: 0.3805 - accuracy: 0.8453 - val_loss: 0.4452 - val_accuracy: 0.8187\n",
            "Epoch 14/50\n",
            "20/20 [==============================] - 48s 2s/step - loss: 0.4122 - accuracy: 0.8293 - val_loss: 0.3540 - val_accuracy: 0.8507\n",
            "Epoch 15/50\n",
            "20/20 [==============================] - 47s 2s/step - loss: 0.3889 - accuracy: 0.8533 - val_loss: 0.3804 - val_accuracy: 0.8160\n",
            "Epoch 16/50\n",
            "20/20 [==============================] - 46s 2s/step - loss: 0.3960 - accuracy: 0.8293 - val_loss: 0.3493 - val_accuracy: 0.8560\n",
            "Epoch 17/50\n",
            "20/20 [==============================] - 47s 2s/step - loss: 0.4197 - accuracy: 0.8400 - val_loss: 0.3511 - val_accuracy: 0.8613\n",
            "Epoch 18/50\n",
            "20/20 [==============================] - 48s 2s/step - loss: 0.3734 - accuracy: 0.8320 - val_loss: 0.3520 - val_accuracy: 0.8400\n",
            "Epoch 19/50\n",
            "20/20 [==============================] - 46s 2s/step - loss: 0.3739 - accuracy: 0.8400 - val_loss: 0.3552 - val_accuracy: 0.8347\n",
            "Epoch 20/50\n",
            "20/20 [==============================] - 46s 2s/step - loss: 0.3758 - accuracy: 0.8507 - val_loss: 0.3338 - val_accuracy: 0.8640\n",
            "Epoch 21/50\n",
            "20/20 [==============================] - 47s 2s/step - loss: 0.3884 - accuracy: 0.8347 - val_loss: 0.3895 - val_accuracy: 0.8453\n",
            "Epoch 22/50\n",
            "20/20 [==============================] - 47s 2s/step - loss: 0.3397 - accuracy: 0.8587 - val_loss: 0.3435 - val_accuracy: 0.8560\n",
            "Epoch 23/50\n",
            "20/20 [==============================] - 49s 2s/step - loss: 0.3663 - accuracy: 0.8480 - val_loss: 0.3320 - val_accuracy: 0.8427\n",
            "Epoch 24/50\n",
            "20/20 [==============================] - 47s 2s/step - loss: 0.3537 - accuracy: 0.8507 - val_loss: 0.3160 - val_accuracy: 0.8587\n",
            "Epoch 25/50\n",
            "20/20 [==============================] - 47s 2s/step - loss: 0.3691 - accuracy: 0.8373 - val_loss: 0.3307 - val_accuracy: 0.8827\n",
            "Epoch 26/50\n",
            "20/20 [==============================] - 27s 1s/step - loss: 0.3483 - accuracy: 0.8453 - val_loss: 0.3283 - val_accuracy: 0.8533\n",
            "Epoch 27/50\n",
            "20/20 [==============================] - 22s 1s/step - loss: 0.3495 - accuracy: 0.8533 - val_loss: 0.3135 - val_accuracy: 0.8693\n",
            "Epoch 28/50\n",
            "20/20 [==============================] - 22s 1s/step - loss: 0.3439 - accuracy: 0.8480 - val_loss: 0.3510 - val_accuracy: 0.8453\n",
            "Epoch 29/50\n",
            "20/20 [==============================] - 22s 1s/step - loss: 0.3453 - accuracy: 0.8480 - val_loss: 0.3171 - val_accuracy: 0.8533\n",
            "Epoch 30/50\n",
            "20/20 [==============================] - 22s 1s/step - loss: 0.3231 - accuracy: 0.8533 - val_loss: 0.2980 - val_accuracy: 0.8693\n",
            "Epoch 31/50\n",
            "20/20 [==============================] - 22s 1s/step - loss: 0.3497 - accuracy: 0.8640 - val_loss: 0.3344 - val_accuracy: 0.8640\n",
            "Epoch 32/50\n",
            "20/20 [==============================] - 22s 1s/step - loss: 0.3475 - accuracy: 0.8640 - val_loss: 0.2886 - val_accuracy: 0.8773\n",
            "Epoch 33/50\n",
            "20/20 [==============================] - 22s 1s/step - loss: 0.3486 - accuracy: 0.8373 - val_loss: 0.3025 - val_accuracy: 0.8667\n",
            "Epoch 34/50\n",
            "20/20 [==============================] - 22s 1s/step - loss: 0.3766 - accuracy: 0.8293 - val_loss: 0.3132 - val_accuracy: 0.8773\n",
            "Epoch 35/50\n",
            "20/20 [==============================] - 22s 1s/step - loss: 0.2988 - accuracy: 0.8667 - val_loss: 0.2802 - val_accuracy: 0.8560\n",
            "Epoch 36/50\n",
            "20/20 [==============================] - 22s 1s/step - loss: 0.3082 - accuracy: 0.8747 - val_loss: 0.2775 - val_accuracy: 0.8827\n",
            "Epoch 37/50\n",
            "20/20 [==============================] - 22s 1s/step - loss: 0.3053 - accuracy: 0.8747 - val_loss: 0.2715 - val_accuracy: 0.8853\n",
            "Epoch 38/50\n",
            "20/20 [==============================] - 22s 1s/step - loss: 0.3003 - accuracy: 0.8827 - val_loss: 0.2713 - val_accuracy: 0.8933\n",
            "Epoch 39/50\n",
            "20/20 [==============================] - 22s 1s/step - loss: 0.3185 - accuracy: 0.8587 - val_loss: 0.2620 - val_accuracy: 0.8933\n",
            "Epoch 40/50\n",
            "20/20 [==============================] - 22s 1s/step - loss: 0.3164 - accuracy: 0.8533 - val_loss: 0.3228 - val_accuracy: 0.8640\n",
            "Epoch 41/50\n",
            "20/20 [==============================] - 22s 1s/step - loss: 0.3461 - accuracy: 0.8373 - val_loss: 0.2858 - val_accuracy: 0.8747\n",
            "Epoch 42/50\n",
            "20/20 [==============================] - 22s 1s/step - loss: 0.3436 - accuracy: 0.8507 - val_loss: 0.3274 - val_accuracy: 0.8507\n",
            "Epoch 43/50\n",
            "20/20 [==============================] - 22s 1s/step - loss: 0.3049 - accuracy: 0.8800 - val_loss: 0.2773 - val_accuracy: 0.8693\n",
            "Epoch 44/50\n",
            "20/20 [==============================] - 22s 1s/step - loss: 0.3270 - accuracy: 0.8747 - val_loss: 0.2625 - val_accuracy: 0.8773\n",
            "Epoch 45/50\n",
            "20/20 [==============================] - 22s 1s/step - loss: 0.3287 - accuracy: 0.8667 - val_loss: 0.2987 - val_accuracy: 0.8560\n",
            "Epoch 46/50\n",
            "20/20 [==============================] - 22s 1s/step - loss: 0.3208 - accuracy: 0.8587 - val_loss: 0.2640 - val_accuracy: 0.8720\n",
            "Epoch 47/50\n",
            "20/20 [==============================] - 22s 1s/step - loss: 0.2967 - accuracy: 0.8640 - val_loss: 0.2583 - val_accuracy: 0.8800\n",
            "Epoch 48/50\n",
            "20/20 [==============================] - 22s 1s/step - loss: 0.3014 - accuracy: 0.8667 - val_loss: 0.2441 - val_accuracy: 0.8907\n",
            "Epoch 49/50\n",
            "20/20 [==============================] - 22s 1s/step - loss: 0.3721 - accuracy: 0.8533 - val_loss: 0.3094 - val_accuracy: 0.8613\n",
            "Epoch 50/50\n",
            "20/20 [==============================] - 22s 1s/step - loss: 0.2977 - accuracy: 0.8667 - val_loss: 0.2646 - val_accuracy: 0.8800\n"
          ]
        }
      ],
      "source": [
        "hist = model.fit(train_gen.flow(X_train, Y_train, batch_size=19),\n",
        "                 batch_size = batch_size,\n",
        "                 epochs = epochs,\n",
        "                 #steps_per_epoch = 14,\n",
        "                 validation_data = train_gen.flow(X_train, Y_train, batch_size=19))\n",
        "                 #callbacks = [early_stopping])"
      ]
    },
    {
      "cell_type": "code",
      "execution_count": null,
      "metadata": {
        "id": "EblDL34BmyO_"
      },
      "outputs": [],
      "source": [
        "model.save('ela_casia.h5') \n",
        "\n",
        "history_dict = hist.history\n",
        "json.dump(history_dict, open('model_history', 'w'))"
      ]
    },
    {
      "cell_type": "code",
      "execution_count": null,
      "metadata": {
        "id": "UNyIzyU7myO_",
        "outputId": "0a87fe8e-fa1f-41b2-93e9-2759340b15dd"
      },
      "outputs": [
        {
          "data": {
            "image/png": "[encoded data removed]",
            "text/plain": [
              "<Figure size 1080x360 with 2 Axes>"
            ]
          },
          "metadata": {
            "needs_background": "light"
          },
          "output_type": "display_data"
        }
      ],
      "source": [
        "fig, ax = plt.subplots(1,2,figsize=(15,5))\n",
        "\n",
        "ax[0].plot(history_dict['loss'], color='b', label = \"Training loss\")\n",
        "ax[0].plot(history_dict['val_loss'], color='r', label = \"Validation loss\",axes =ax[0])\n",
        "ax[0].set_xlabel('Epochs',fontsize=16)\n",
        "ax[0].set_ylabel('Loss',fontsize=16)\n",
        "legend = ax[0].legend(loc='best', shadow=True)\n",
        "\n",
        "ax[1].plot(history_dict['accuracy'], color='b', label = \"Training accuracy\")\n",
        "ax[1].plot(history_dict['val_accuracy'], color='r',label = \"Validation accuracy\")\n",
        "ax[1].set_xlabel('Epochs',fontsize=16)\n",
        "ax[1].set_ylabel('Accuracy',fontsize=16)\n",
        "legend = ax[1].legend(loc='best', shadow=True)\n",
        "\n",
        "fig.suptitle('Metrics',fontsize=20);"
      ]
    },
    {
      "cell_type": "code",
      "execution_count": null,
      "metadata": {
        "id": "ayz0Xv5jmyPA"
      },
      "outputs": [],
      "source": [
        "def plot_confusion_matrix(cf_matrix):\n",
        "  \n",
        "    group_counts = [\"{0:0.0f}\".format(value) for value in cf_matrix.flatten()]\n",
        "    group_percentages = [\"{0:.2%}\".format(value) for value in cf_matrix.flatten()/np.sum(cf_matrix)]\n",
        "\n",
        "    axes_labels=['Forged', 'Authentic']\n",
        "    labels = [f\"{v1}\\n{v2}\" for v1, v2 in zip(group_counts,group_percentages)]\n",
        "    labels = np.asarray(labels).reshape(2,2)\n",
        "    sns.heatmap(cf_matrix, annot=labels, fmt='',cmap=\"flare\" , xticklabels=axes_labels, yticklabels=axes_labels)\n",
        "\n",
        "    plot_xlabel = plt.xlabel('Predicted labels', fontsize = 13)\n",
        "    plot_ylabel = plt.ylabel('True labels', fontsize = 13)\n",
        "    plot_title = plt.title('Confusion Matrix', fontsize= 10,fontweight='bold')"
      ]
    },
    {
      "cell_type": "code",
      "execution_count": null,
      "metadata": {
        "scrolled": false,
        "id": "PhnimHtlmyPB",
        "outputId": "212ed265-3152-4229-d7a9-1ba9af191ab6"
      },
      "outputs": [
        {
          "data": {
            "image/png": "[encoded data removed]",
            "text/plain": [
              "<Figure size 432x288 with 2 Axes>"
            ]
          },
          "metadata": {
            "needs_background": "light"
          },
          "output_type": "display_data"
        }
      ],
      "source": [
        "Y_pred = model.predict(X_val)              \n",
        "Y_pred_classes = np.round(Y_pred)           \n",
        "Y_true = Y_val                             \n",
        "\n",
        "confusion_mtx = confusion_matrix(Y_true, Y_pred_classes)     \n",
        "plot_confusion_matrix(confusion_mtx)                         \n"
      ]
    },
    {
      "cell_type": "code",
      "execution_count": null,
      "metadata": {
        "id": "GmPtiN3-myPC",
        "outputId": "32f6cca4-1dc9-4471-805a-a9c3d3a3fc00"
      },
      "outputs": [
        {
          "name": "stdout",
          "output_type": "stream",
          "text": [
            "              precision    recall  f1-score   support\n",
            "\n",
            "           0       0.87      0.83      0.85        47\n",
            "           1       0.84      0.87      0.85        47\n",
            "\n",
            "    accuracy                           0.85        94\n",
            "   macro avg       0.85      0.85      0.85        94\n",
            "weighted avg       0.85      0.85      0.85        94\n",
            "\n"
          ]
        }
      ],
      "source": [
        "print(classification_report(Y_true, Y_pred_classes))"
      ]
    },
    {
      "cell_type": "code",
      "execution_count": null,
      "metadata": {
        "id": "PLK2Jbw2myPD"
      },
      "outputs": [],
      "source": [
        "class_names = ['Forged', 'Authentic']"
      ]
    },
    {
      "cell_type": "code",
      "execution_count": null,
      "metadata": {
        "scrolled": true,
        "id": "XaezWi_XmyPE",
        "outputId": "8b232adf-cdc1-4ea6-a46f-10fd349125ac",
        "colab": {
          "referenced_widgets": [
            "0e301abd13fb4081987503508c4ca3e2"
          ]
        }
      },
      "outputs": [
        {
          "data": {
            "application/vnd.jupyter.widget-view+json": {
              "model_id": "0e301abd13fb4081987503508c4ca3e2",
              "version_major": 2,
              "version_minor": 0
            },
            "text/plain": [
              "Processing Images :   0%|          | 0/25 [00:00<?, ?it/s]"
            ]
          },
          "metadata": {},
          "output_type": "display_data"
        },
        {
          "name": "stdout",
          "output_type": "stream",
          "text": [
            "Total test images: 25\n",
            "Correctly predicted images: 20\n",
            "Accuracy: 80.0 %\n"
          ]
        }
      ],
      "source": [
        "correct_test = 0\n",
        "total_test = 0  \n",
        "\n",
        "for index,image in enumerate(tqdm(X_test,desc=\"Processing Images : \")):\n",
        "    image = image.reshape(-1, 128, 128, 3)\n",
        "    y_pred = model.predict(image)\n",
        "    y_pred_class = np.round(y_pred)\n",
        "    total_test += 1\n",
        "    if y_pred_class == Y_test[index]: \n",
        "        correct_test += 1\n",
        "    \n",
        "print(f'Total test images: {total_test}\\nCorrectly predicted images: {correct_test}\\nAccuracy: {correct_test / total_test * 100.0} %')"
      ]
    },
    {
      "cell_type": "code",
      "execution_count": null,
      "metadata": {
        "id": "V9vtdH38myPE"
      },
      "outputs": [],
      "source": [
        "from PIL import ImageFile\n",
        "\n",
        "ImageFile.LOAD_TRUNCATED_IMAGES = True"
      ]
    },
    {
      "cell_type": "code",
      "execution_count": null,
      "metadata": {
        "id": "Lhe66TWYmyPF",
        "outputId": "aa85d390-ac36-4e42-a9c7-fdb8eaea1938"
      },
      "outputs": [
        {
          "name": "stdout",
          "output_type": "stream",
          "text": [
            "Class: Forged Confidence: 10.14\n",
            "Class: Forged Confidence: 33.44\n",
            "Class: Forged Confidence: 4.80\n",
            "Class: Forged Confidence: 23.49\n",
            "Class: Forged Confidence: 24.12\n",
            "Class: Forged Confidence: 1.37\n",
            "Class: Forged Confidence: 19.17\n",
            "Class: Forged Confidence: 7.22\n",
            "Class: Forged Confidence: 36.74\n",
            "Class: Forged Confidence: 3.83\n",
            "Class: Forged Confidence: 48.17\n",
            "Class: Forged Confidence: 25.50\n",
            "Class: Forged Confidence: 18.09\n",
            "Class: Forged Confidence: 18.42\n",
            "Class: Forged Confidence: 10.34\n",
            "Class: Forged Confidence: 4.17\n",
            "Class: Forged Confidence: 4.88\n",
            "Class: Forged Confidence: 17.05\n",
            "Class: Forged Confidence: 5.56\n",
            "Class: Forged Confidence: 0.17\n",
            "Class: Forged Confidence: 4.59\n",
            "Class: Forged Confidence: 1.77\n",
            "Class: Forged Confidence: 3.42\n",
            "Class: Forged Confidence: 27.62\n",
            "Class: Forged Confidence: 28.49\n",
            "Class: Forged Confidence: 32.53\n",
            "Class: Forged Confidence: 4.24\n",
            "Class: Forged Confidence: 10.34\n",
            "Class: Forged Confidence: 17.51\n",
            "Class: Forged Confidence: 42.06\n",
            "Class: Forged Confidence: 18.73\n",
            "Class: Forged Confidence: 7.88\n",
            "Class: Forged Confidence: 27.57\n",
            "Class: Forged Confidence: 28.26\n",
            "Class: Forged Confidence: 8.48\n",
            "Class: Forged Confidence: 35.65\n",
            "Class: Forged Confidence: 12.32\n",
            "Class: Forged Confidence: 23.23\n",
            "Class: Forged Confidence: 47.00\n",
            "Class: Forged Confidence: 12.84\n",
            "Class: Forged Confidence: 3.90\n",
            "Total: 50, Correct: 41, Acc: 82.0\n"
          ]
        }
      ],
      "source": [
        "fake_image = '../Datasets/TEST/Tp/'\n",
        "correct = 0\n",
        "total = 0\n",
        "for file_name in os.listdir(fake_image):\n",
        "    if file_name.endswith('jpg') or file_name.endswith('png'):\n",
        "        test_image_path = os.path.join(fake_image, file_name)\n",
        "        test_image = prepare_image(test_image_path)  \n",
        "        test_image=test_image.reshape(-1, 128, 128, 3)\n",
        "        y_pred = model.predict(test_image)\n",
        "        y_pred_class = round(y_pred[0][0])\n",
        "        total += 1\n",
        "        if y_pred_class == 0:\n",
        "            correct += 1\n",
        "            print(f'Class: {class_names[y_pred_class]} Confidence: {np.amax(y_pred) * 100:0.2f}')\n",
        "print(f'Total: {total}, Correct: {correct}, Acc: {correct / total * 100.0}')"
      ]
    },
    {
      "cell_type": "code",
      "execution_count": null,
      "metadata": {
        "id": "kN40dfe8myPF",
        "outputId": "e9d92e66-cd73-495d-82b3-8fd0eaa94366"
      },
      "outputs": [
        {
          "name": "stdout",
          "output_type": "stream",
          "text": [
            "Class: Authentic Confidence: 99.84\n",
            "Class: Authentic Confidence: 99.84\n",
            "Class: Authentic Confidence: 100.00\n",
            "Class: Authentic Confidence: 99.93\n",
            "Class: Authentic Confidence: 100.00\n",
            "Class: Authentic Confidence: 99.99\n",
            "Class: Authentic Confidence: 99.69\n",
            "Class: Authentic Confidence: 100.00\n",
            "Class: Authentic Confidence: 96.89\n",
            "Class: Authentic Confidence: 99.73\n",
            "Class: Authentic Confidence: 99.57\n",
            "Class: Authentic Confidence: 99.86\n",
            "Class: Authentic Confidence: 99.26\n",
            "Class: Authentic Confidence: 88.27\n",
            "Class: Authentic Confidence: 67.10\n",
            "Class: Authentic Confidence: 70.39\n",
            "Class: Authentic Confidence: 99.86\n",
            "Class: Authentic Confidence: 100.00\n",
            "Class: Authentic Confidence: 100.00\n",
            "Class: Authentic Confidence: 100.00\n",
            "Class: Authentic Confidence: 100.00\n",
            "Class: Authentic Confidence: 100.00\n",
            "Class: Authentic Confidence: 82.61\n",
            "Class: Authentic Confidence: 96.75\n",
            "Class: Authentic Confidence: 97.38\n",
            "Class: Authentic Confidence: 95.78\n",
            "Class: Authentic Confidence: 98.61\n",
            "Class: Authentic Confidence: 80.73\n",
            "Class: Authentic Confidence: 89.42\n",
            "Class: Authentic Confidence: 99.89\n",
            "Class: Authentic Confidence: 50.02\n",
            "Class: Authentic Confidence: 50.23\n",
            "Class: Authentic Confidence: 99.72\n",
            "Class: Authentic Confidence: 71.96\n",
            "Class: Authentic Confidence: 90.58\n",
            "Class: Authentic Confidence: 89.24\n",
            "Class: Authentic Confidence: 97.52\n",
            "Class: Authentic Confidence: 87.37\n",
            "Class: Authentic Confidence: 98.99\n",
            "Class: Authentic Confidence: 91.43\n",
            "Class: Authentic Confidence: 90.40\n",
            "Class: Authentic Confidence: 71.00\n",
            "Class: Authentic Confidence: 94.51\n",
            "Total: 49, Correct: 43, Acc: 87.75510204081633\n"
          ]
        }
      ],
      "source": [
        "real_image = '../Datasets/Test/Au/'\n",
        "correct_r = 0\n",
        "total_r = 0\n",
        "for file_name in os.listdir(real_image):\n",
        "    if file_name.endswith('jpg') or file_name.endswith('png'):\n",
        "        test_image_path = os.path.join(real_image, file_name)\n",
        "        test_image = prepare_image(test_image_path)  \n",
        "        test_image=test_image.reshape(-1, 128, 128, 3) \n",
        "        y_pred = model.predict(test_image)\n",
        "        y_pred_class = round(y_pred[0][0])\n",
        "        total_r += 1\n",
        "        if y_pred_class == 1:\n",
        "            correct_r += 1\n",
        "            print(f'Class: {class_names[y_pred_class]} Confidence: {np.amax(y_pred) * 100:0.2f}')\n",
        "print(f'Total: {total_r}, Correct: {correct_r}, Acc: {correct_r / total_r * 100.0}')"
      ]
    },
    {
      "cell_type": "code",
      "execution_count": null,
      "metadata": {
        "id": "tk2TyGgemyPG",
        "outputId": "077fb434-c236-4299-afc6-b3ad77d67dc1"
      },
      "outputs": [
        {
          "name": "stdout",
          "output_type": "stream",
          "text": [
            "Total: 99, Correct: 84, Acc: 84.84848484848484\n"
          ]
        }
      ],
      "source": [
        "correct += correct_r\n",
        "total += total_r\n",
        "#print(f'Total: {total_r}, Correct: {correct_r}, Acc: {correct_r / total_r * 100.0}')\n",
        "print(f'Total: {total}, Correct: {correct}, Acc: {correct / total * 100.0}')"
      ]
    },
    {
      "cell_type": "code",
      "execution_count": null,
      "metadata": {
        "id": "cvWhgwNOmyPH"
      },
      "outputs": [],
      "source": [
        "# test_image_path = '../casia2/test/1.JPG'    # test image path\n",
        "# test_image = prepare_image(test_image_path)\n",
        "# test_image = test_image.reshape(-1, 128, 128, 3)\n",
        "\n",
        "# y_pred = model.predict(test_image)\n",
        "# y_pred_class = int(round(y_pred[0][0]))\n",
        "\n",
        "# fig, ax = plt.subplots(1,2,figsize=(15,5)) \n",
        "\n",
        "# original_image = plt.imread(test_image_path) \n",
        "# ax[0].axis('off')\n",
        "# ax[0].imshow(original_image)\n",
        "# ax[0].set_title('Original Image')\n",
        "\n",
        "# ax[1].axis('off')\n",
        "# ax[1].imshow(convert_to_ela_image(test_image_path,90)) \n",
        "# ax[1].set_title('ELA Image')\n",
        "\n",
        "# print(f'Prediction: {class_names[y_pred_class]}')\n",
        "# if y_pred<=0.5:\n",
        "#     print(f'Confidence:  {(1-(y_pred[0][0])) * 100:0.2f}%')\n",
        "# else:\n",
        "#     print(f'Confidence: {(y_pred[0][0]) * 100:0.2f}%')\n",
        "# print('--------------------------------------------------------------------------------------------------------------')"
      ]
    },
    {
      "cell_type": "code",
      "execution_count": null,
      "metadata": {
        "id": "GOjmQSJYmyPH",
        "outputId": "5033300e-ebe0-40d7-a713-f904b6140b0b",
        "colab": {
          "referenced_widgets": [
            "b4d272a4678c4e29981aab548981bde2"
          ]
        }
      },
      "outputs": [
        {
          "data": {
            "application/vnd.jupyter.widget-view+json": {
              "model_id": "b4d272a4678c4e29981aab548981bde2",
              "version_major": 2,
              "version_minor": 0
            },
            "text/plain": [
              "Processing Images :   0%|          | 0/14 [00:00<?, ?it/s]"
            ]
          },
          "metadata": {},
          "output_type": "display_data"
        },
        {
          "name": "stdout",
          "output_type": "stream",
          "text": [
            "Total images: 14\n",
            "Authentic Images: 14\n",
            "Forged Images: 0\n"
          ]
        }
      ],
      "source": [
        "# test_folder_path = 'Datasets/FIDAC/Au/'        #dataset path\n",
        "# authentic,forged,total = 0,0,0\n",
        "\n",
        "# for filename in tqdm(os.listdir(test_folder_path),desc=\"Processing Images : \"):\n",
        "#     #print(filename)\n",
        "#     if filename.endswith('jpg') or filename.endswith('png') or filename.endswith('jpeg') or filename.endswith('JPG'):\n",
        "#         test_image_path = os.path.join(test_folder_path, filename)\n",
        "#         test_image = prepare_image(test_image_path)  \n",
        "#         test_image=test_image.reshape(-1, 128, 128, 3)\n",
        "#         #y_pred = model.predict(image)\n",
        "#         #y_pred_class = np.round(y_pred)\n",
        "        \n",
        "#         y_pred = model.predict(test_image)\n",
        "#         y_pred_class = round(y_pred[0][0])\n",
        "\n",
        "#         total += 1\n",
        "#         #print('---',y_pred_class)\n",
        "#         if y_pred_class == 0:\n",
        "#             forged += 1\n",
        "#         else:\n",
        "#             authentic +=1\n",
        "\n",
        "# print(f'Total images: {total}\\nAuthentic Images: {authentic}\\nForged Images: {forged}')"
      ]
    }
  ],
  "metadata": {
    "kernelspec": {
      "display_name": "Python 3",
      "language": "python",
      "name": "python3"
    },
    "language_info": {
      "codemirror_mode": {
        "name": "ipython",
        "version": 3
      },
      "file_extension": ".py",
      "mimetype": "text/x-python",
      "name": "python",
      "nbconvert_exporter": "python",
      "pygments_lexer": "ipython3",
      "version": "3.7.3"
    },
    "colab": {
      "provenance": []
    }
  },
  "nbformat": 4,
  "nbformat_minor": 0
}